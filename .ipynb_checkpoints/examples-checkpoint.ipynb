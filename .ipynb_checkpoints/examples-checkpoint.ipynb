{
 "cells": [
  {
   "cell_type": "markdown",
   "metadata": {},
   "source": [
    "Formasaurus and lxml are the only external depencies.\n",
    "\n",
    "Although obviously Formasaurus has quite a few dependencies."
   ]
  },
  {
   "cell_type": "code",
   "execution_count": 1,
   "metadata": {
    "collapsed": true
   },
   "outputs": [],
   "source": [
    "from autologin import AutoLogin"
   ]
  },
  {
   "cell_type": "markdown",
   "metadata": {},
   "source": [
    "# Set some vars and initialize AutoLogin."
   ]
  },
  {
   "cell_type": "code",
   "execution_count": 2,
   "metadata": {
    "collapsed": true
   },
   "outputs": [],
   "source": [
    "url = 'https://reddit.com'\n",
    "username = 'ghostintheshell1010'\n",
    "password = 'B00msh4k3th3r00m!'\n",
    "auto_login = AutoLogin()"
   ]
  },
  {
   "cell_type": "markdown",
   "metadata": {},
   "source": [
    "# Analyse html - No http requests"
   ]
  },
  {
   "cell_type": "markdown",
   "metadata": {},
   "source": [
    "Grab the html source using Python Requests.\n",
    "\n",
    "Set user agent headers, or reddit will block our requests."
   ]
  },
  {
   "cell_type": "code",
   "execution_count": 3,
   "metadata": {
    "collapsed": true
   },
   "outputs": [],
   "source": [
    "import requests\n",
    "user_agent = 'Mozilla/5.0 (X11; Linux i686) AppleWebKit/537.36 (KHTML, like Gecko) Ubuntu Chromium/43.0.2357.130 Chrome/43.0.2357.130 Safari/537.36'\n",
    "headers = {'User-Agent': user_agent}\n",
    "response = requests.get(url, headers=headers)\n",
    "html_source = response.content"
   ]
  },
  {
   "cell_type": "markdown",
   "metadata": {},
   "source": [
    "## Get a form request for a login form"
   ]
  },
  {
   "cell_type": "markdown",
   "metadata": {},
   "source": [
    "Use AutoLogin to identify any login forms on the page, and return the form url and data in a dictionary."
   ]
  },
  {
   "cell_type": "code",
   "execution_count": 4,
   "metadata": {
    "collapsed": false
   },
   "outputs": [
    {
     "name": "stdout",
     "output_type": "stream",
     "text": [
      "login forms found: 1\n"
     ]
    }
   ],
   "source": [
    "login_request = auto_login.login_request(html_source, username, password)"
   ]
  },
  {
   "cell_type": "code",
   "execution_count": 5,
   "metadata": {
    "collapsed": false
   },
   "outputs": [
    {
     "name": "stdout",
     "output_type": "stream",
     "text": [
      "{'url': 'https://www.reddit.com/post/login', 'data': {'passwd': 'B00msh4k3th3r00m!', 'user': 'ghostintheshell1010', 'op': 'login-main'}, 'method': 'POST'}\n"
     ]
    }
   ],
   "source": [
    "print(login_request)"
   ]
  },
  {
   "cell_type": "markdown",
   "metadata": {},
   "source": [
    "## Extract any login links"
   ]
  },
  {
   "cell_type": "markdown",
   "metadata": {},
   "source": [
    "Use AutoLogin to extract links on the page that look like they might be login pages."
   ]
  },
  {
   "cell_type": "code",
   "execution_count": 6,
   "metadata": {
    "collapsed": false
   },
   "outputs": [
    {
     "name": "stdout",
     "output_type": "stream",
     "text": [
      "#Links: 393\n",
      "#Login links: 1\n",
      "https://www.reddit.com/login\n"
     ]
    }
   ],
   "source": [
    "login_links = auto_login.extract_login_links(html_source)"
   ]
  },
  {
   "cell_type": "code",
   "execution_count": 7,
   "metadata": {
    "collapsed": false
   },
   "outputs": [
    {
     "name": "stdout",
     "output_type": "stream",
     "text": [
      "['https://www.reddit.com/login']\n"
     ]
    }
   ],
   "source": [
    "print(login_links)"
   ]
  },
  {
   "cell_type": "markdown",
   "metadata": {},
   "source": [
    "# Attempt login, return auth cookies - http requests"
   ]
  },
  {
   "cell_type": "markdown",
   "metadata": {},
   "source": [
    "Use AutoLogin to look for login forms on the page and attempt to login. Return the cookies.\n",
    "\n",
    "If no login forms are found AutoLogin will extract login links, obtain the html source for them and try logging into any login forms it finds. \n",
    "\n",
    "If this fails, AutoLogin will just try all the rest of the internal links on the homepage to see if it can find a login form. \n",
    "\n",
    "It won't crawl the site beyond depth 1."
   ]
  },
  {
   "cell_type": "code",
   "execution_count": 8,
   "metadata": {
    "collapsed": false
   },
   "outputs": [
    {
     "name": "stdout",
     "output_type": "stream",
     "text": [
      "login forms found: 1\n",
      "login forms found: 1\n"
     ]
    }
   ],
   "source": [
    "auth_cookies = auto_login.auth_cookies_from_url(url, username=username, password=password)"
   ]
  },
  {
   "cell_type": "code",
   "execution_count": 10,
   "metadata": {
    "collapsed": false
   },
   "outputs": [
    {
     "data": {
      "text/plain": [
       "{'_cookies': {'.reddit.com': {'/': {'__cfduid': Cookie(version=0, name='__cfduid', value='d28699661aef3053ba3b5311221c6675f1439837446', port=None, port_specified=False, domain='.reddit.com', domain_specified=True, domain_initial_dot=True, path='/', path_specified=True, secure=False, expires=1471373446, discard=False, comment=None, comment_url=None, rest={'HttpOnly': None}, rfc2109=False),\n",
       "    'reddit_session': Cookie(version=0, name='reddit_session', value='42316925%2C2015-08-17T11%3A50%3A47%2C10639c65277cb0aa541d02072c53f4bb2209a28d', port=None, port_specified=False, domain='.reddit.com', domain_specified=True, domain_initial_dot=False, path='/', path_specified=True, secure=False, expires=None, discard=True, comment=None, comment_url=None, rest={'HttpOnly': None}, rfc2109=False)}}},\n",
       " '_cookies_lock': <_RLock owner=None count=0>,\n",
       " '_now': 1439837448,\n",
       " '_policy': <cookielib.DefaultCookiePolicy instance at 0xaa1904cc>}"
      ]
     },
     "execution_count": 10,
     "metadata": {},
     "output_type": "execute_result"
    }
   ],
   "source": [
    "auth_cookies.__dict__"
   ]
  },
  {
   "cell_type": "code",
   "execution_count": null,
   "metadata": {
    "collapsed": true
   },
   "outputs": [],
   "source": []
  }
 ],
 "metadata": {
  "kernelspec": {
   "display_name": "Python 2",
   "language": "python",
   "name": "python2"
  },
  "language_info": {
   "codemirror_mode": {
    "name": "ipython",
    "version": 2
   },
   "file_extension": ".py",
   "mimetype": "text/x-python",
   "name": "python",
   "nbconvert_exporter": "python",
   "pygments_lexer": "ipython2",
   "version": "2.7.6"
  }
 },
 "nbformat": 4,
 "nbformat_minor": 0
}
